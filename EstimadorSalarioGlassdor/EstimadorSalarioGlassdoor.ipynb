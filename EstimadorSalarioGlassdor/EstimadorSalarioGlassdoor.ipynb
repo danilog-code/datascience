{
 "cells": [
  {
   "cell_type": "markdown",
   "metadata": {},
   "source": [
    "# Um exemplo de predição de salários pelo site Glassdoor\n",
    "\n",
    "### Notebook por [Danilo Gustavo Bispo]\n",
    "#### [Glassdoor](http://www.glassdoor.com/)\n"
   ]
  },
  {
   "cell_type": "markdown",
   "metadata": {},
   "source": [
    "## Conteúdo\n",
    "\n",
    "1. [Introdução](#Introdução)\n",
    "\n",
    "2. [Licença](#Licença)\n",
    "\n",
    "3. [Bibliotecas utilizadas](#Bibliotecas-utilizadas)\n",
    "\n",
    "4. [A problematização de negócio](#A-problematização-de-negócio)\n",
    "\n",
    "5. [Coletando os dados](#Coletando-os-dados)\n",
    "\n",
    "6. [Limpeza dos dados](#Limpeza-dos-dados)\n",
    "\n",
    "7. [Análise exploratória](#Análise-exploratória)\n",
    "\n",
    "8. [Criação do modelo](#Criação-do-modelo)"
   ]
  },
  {
   "cell_type": "markdown",
   "metadata": {},
   "source": [
    "## Introdução\n",
    "\n",
    "[[ voltar_ao topo ]](#Conteúdo)\n",
    "\n",
    "Neste notebook será apresentado um pipeline básico de análise de dados no intuito de representar um típico workflow de projeto em ciência de dados.\n",
    "\n",
    "Além de oferecer o código, a idéia é demonstrar um conjunto de boas práticas na tentativa de tornar o exemplo mais eficaz e colaborativo junto à comunidade de cientistas de dados. \n",
    "\n",
    "Será seguido o checklist do livro [The Elements of Data Analytic Style](https://leanpub.com/datastyle). Um guia rápido e gratuito para realização de análises de dados.\n",
    "\n",
    "O artigo detalhando web-scraping do glassdoor [Artigo Scraper](https://towardsdatascience.com/selenium-tutorial-scraping-glassdoor-com-in-10-minutes-3d0915c6d905) junto com o [Github](https://github.com/arapfaik/scraping-glassdoor-selenium)\n",
    "\n",
    "Outro artigo descrvendo a utlização do [Flask Productionization](https://towardsdatascience.com/productionize-a-machine-learning-model-with-flask-and-heroku-8201260503d2)"
   ]
  },
  {
   "cell_type": "markdown",
   "metadata": {},
   "source": [
    "## Licença\n",
    "\n",
    "[[ voltar ao topo ]](#Conteúdo)\n",
    "\n",
    "No geral este material está disponibilizado para que seja utilizado e compartilhado de maneira plena."
   ]
  },
  {
   "cell_type": "markdown",
   "metadata": {},
   "source": [
    "## Bibliotecas utilizadas\n",
    "\n",
    "[[ voltar ao topo ]](#Conteúdo)\n",
    "\n",
    "Pode-se utilizar o pacote [Anaconda Python distribution](http://continuum.io/downloads) para instalar a maioria das bibliotecas e ferramentas necessárias.\n",
    "\n",
    "Este notebook utiliza diversos pacotes que por padrão já vem com o Anaconda. As principais bibliotecas que serão utilizadas são:\n",
    "\n",
    "* **numPy**: Fornece uma estrutura de arrays e matrizes multidimensionais com suas respectivas funções numéricas.\n",
    "* **pandas**: Fornece estrutura dataframe para armazenar dados permitindo manipulação de maneira fácil e eficiente.\n",
    "* **scikit-learn**: Pacote essencial de machine learning em Python.\n",
    "* **matplotlib**: Biblioteca de visualizção de dados em Python.\n",
    "* **seaborn**: Biblioteca avançada de ferramentas estatísticas.\n",
    "* **watermark**: Extensão jupyter notebook para print de timestamps, versions, informações de hardware entre outros.\n",
    "* **selenium**: API WebDriver utlizada para realizar a navegação entre páginas web\n",
    "* **flask**: Flask é um pequeno framework web que provê um modelo simples para desenvolvimento web\n",
    "* **pickle**: Utilizado para serializar e deserializar estrutura de objetos python.\n",
    "\n",
    "**Nota:** Não será fornecido suporte para tentativas de executar este notebook sem a distribuição Anaconda."
   ]
  },
  {
   "cell_type": "markdown",
   "metadata": {},
   "source": [
    "## A problematização de negócio\n",
    "\n",
    "[[ voltar ao topo ]](#Conteúdo)\n",
    "\n",
    "O objetivo deste projeto consiste na criação de uma aplicação que sirva como ferramenta para estimar os salários no intuito de ajudar cientistas de dados negociar seus ganhos e benefícios quando conseguirem um emprego. Será construído um pipeline de análise de dados para o desenvolvimento desta aplicação.\n",
    "\n",
    "Dentre as principais atividade estão as tarefas de realizar web-scraping sobre mais ou menos 1000 descrições de emprego da plataforma glassdoor. Elaborar features através do conteúdo extraído do texto de cada descrição de trabalho. Em seguida será criado um modelo de machine learning que utiliza as features recém criadas fim de identificar e predizer diferentes salários e benefícios baseados em tais medições.\n",
    "\n",
    "O modelo será otimizado com Linear, Lasso and Random Forest Regresssors utilizando GridsearchCV para auxiliar na obtenção o melhor modelo. \n",
    "\n",
    "Finalmente o projeto encerra com a exposição de uma API permitindo acesso externo para realização de consultadas."
   ]
  },
  {
   "cell_type": "markdown",
   "metadata": {},
   "source": [
    "## Coletando os dados\n",
    "\n",
    "[[ voltar ao topo ]](#Conteúdo)\n",
    "\n",
    "Primeiramente vamos coletar as informações diretamente do site do glassdoor aplicando uma técnica de web scrapping com objetivo de realizar a extração dos dados.\n",
    "\n",
    "Poderíamos utilizar a biblioteca do Glassdoor, porém ela fornece um número um tanto limitado de data points. Por exemplo não é permitido que se faça raspasgem de empregos ou avaliações. Você só consegue realizar extração de companhias. \n",
    "\n",
    "Portanto será utilizado uma técnica mais elaborada conforme o artigo [Selenium Tutorial: Scraping Glassdoor.com in 10 Minutes](https://towardsdatascience.com/selenium-tutorial-scraping-glassdoor-com-in-10-minutes-3d0915c6d905) implementado e compartilhado pelo cientista de dados Ömer Sakarya. \n",
    "\n",
    "O script abaixo foi adequado para atender as necessidades do glassdoor com vagas apenas do Brasil"
   ]
  },
  {
   "cell_type": "code",
   "execution_count": null,
   "metadata": {},
   "outputs": [],
   "source": [
    "\"\"\"\n",
    "author: Sakarya\n",
    "url: https://github.com/arapfaik/scraping-glassdoor-selenium\n",
    "\n",
    "\"\"\"\n",
    "from selenium.common.exceptions import NoSuchElementException, ElementClickInterceptedException\n",
    "from selenium import webdriver\n",
    "import time\n",
    "import pandas as pd\n",
    "import matplotlib.pyplot as plt \n",
    "import seaborn as sns \n",
    "\n",
    "def get_jobs(keyword, num_jobs, verbose, path, slp_time):\n",
    "    \n",
    "    #inicializando webdriver\n",
    "    options = webdriver.ChromeOptions()\n",
    "    \n",
    "     \n",
    "    #mudar o path quando o chromedriver estiver na pasta home\n",
    "    driver = webdriver.Chrome(executable_path=path, options=options)\n",
    "    driver.set_window_size(1120, 1000)\n",
    "    \n",
    "    url = \"https://www.glassdoor.com/Job/jobs.htm?suggestCount=0&suggestChosen=false&clickSource=searchBtn&typedKeyword=\"+keyword+\"&sc.keyword=\"+keyword+\"&locT=&locId=&jobType=\"\n",
    "    #url = 'https://www.glassdoor.com/Job/jobs.htm?sc.keyword=\"' + keyword + '\"&locT=C&locId=1147401&locKeyword=San%20Francisco,%20CA&jobType=all&fromAge=-1&minSalary=0&includeNoSalaryJobs=true&radius=100&cityId=-1&minRating=0.0&industryId=-1&sgocId=-1&seniorityType=all&companyId=-1&employerSizes=0&applicationType=0&remoteWorkType=0'\n",
    "    driver.get(url)\n",
    "    jobs = []\n",
    "\n",
    "        while len(jobs) < num_jobs:  \n",
    "\n",
    "        #Sleep para aguardar a pagina carregar \n",
    "        time.sleep(slp_time)\n",
    "\n",
    "        try:\n",
    "            driver.find_element_by_class_name(\"selected\").click()\n",
    "        except ElementClickInterceptedException:\n",
    "            pass\n",
    "\n",
    "        time.sleep(.1)\n",
    "\n",
    "        try:\n",
    "            driver.find_element_by_css_selector('[alt=\"Close\"]').click() #clicking to the X.\n",
    "            print(' x out worked')\n",
    "        except NoSuchElementException:\n",
    "            print(' x out failed')\n",
    "            pass\n",
    "\n",
    "        \n",
    "        #loop atraves de cada vaga de emprego encontrada \n",
    "        job_buttons = driver.find_elements_by_class_name(\"jl\")  #.\n",
    "        for job_button in job_buttons:  \n",
    "\n",
    "            print(\"Progress: {}\".format(\"\" + str(len(jobs)) + \"/\" + str(num_jobs)))\n",
    "            if len(jobs) >= num_jobs:\n",
    "                break\n",
    "\n",
    "            job_button.click()  \n",
    "            time.sleep(1)\n",
    "            collected_successfully = False\n",
    "            \n",
    "            while not collected_successfully:\n",
    "                try:\n",
    "                    nome_companhia = driver.find_element_by_xpath('.//div[@class=\"employerName\"]').text\n",
    "                    localizacao = driver.find_element_by_xpath('.//div[@class=\"location\"]').text\n",
    "                    titulo = driver.find_element_by_xpath('.//div[contains(@class, \"title\")]').text\n",
    "                    descricao_vaga = driver.find_element_by_xpath('.//div[@class=\"jobDescriptionContent desc\"]').text\n",
    "                    collected_successfully = True\n",
    "                except:\n",
    "                    time.sleep(5)\n",
    "\n",
    "            try:\n",
    "                estimativa_salario = driver.find_element_by_xpath('.//span[@class=\"gray salary\"]').text\n",
    "            except NoSuchElementException:\n",
    "                estimativa_salario = -1 \n",
    "            \n",
    "            try:\n",
    "                avaliacao = driver.find_element_by_xpath('.//span[@class=\"rating\"]').text\n",
    "            except NoSuchElementException:\n",
    "                rating = -1\n",
    "\n",
    "            #Print para debug\n",
    "            if verbose:\n",
    "                print(\"Titulo do emprego: {}\".format(titulo))\n",
    "                print(\"Estimativa de salario: {}\".format(estimativa_salario))\n",
    "                print(\"Descricao da Vaga: {}\".format(descricao_vaga[:500]))\n",
    "                print(\"Avaliação: {}\".format(avaliacao))\n",
    "                print(\"Nome da Companhia: {}\".format(nome_companhia))\n",
    "                print(\"Localização: {}\".format(localizacao))\n",
    "\n",
    "            #Vai para a tab da empresa...\n",
    "            #<div class=\"tab\" data-tab-type=\"overview\"><span>Company</span></div>\n",
    "            try:\n",
    "                driver.find_element_by_xpath('.//div[@class=\"tab\" and @data-tab-type=\"overview\"]').click()\n",
    "\n",
    "                try:\n",
    "                    tamanho = driver.find_element_by_xpath('.//div[@class=\"infoEntity\"]//label[text()=\"Size\"]//following-sibling::*').text\n",
    "                except NoSuchElementException:\n",
    "                    tamanho = -1\n",
    "\n",
    "                try:\n",
    "                    fundamento = driver.find_element_by_xpath('.//div[@class=\"infoEntity\"]//label[text()=\"Founded\"]//following-sibling::*').text\n",
    "                except NoSuchElementException:\n",
    "                    fundamento = -1\n",
    "\n",
    "                try:\n",
    "                    tipo_propriedade = driver.find_element_by_xpath('.//div[@class=\"infoEntity\"]//label[text()=\"Type\"]//following-sibling::*').text\n",
    "                except NoSuchElementException:\n",
    "                    tipo_propriedade = -1\n",
    "\n",
    "                try:\n",
    "                    industria = driver.find_element_by_xpath('.//div[@class=\"infoEntity\"]//label[text()=\"Industry\"]//following-sibling::*').text\n",
    "                except NoSuchElementException:\n",
    "                    industria = -1\n",
    "\n",
    "                try:\n",
    "                    setor = driver.find_element_by_xpath('.//div[@class=\"infoEntity\"]//label[text()=\"Sector\"]//following-sibling::*').text\n",
    "                except NoSuchElementException:\n",
    "                    setor = -1\n",
    "\n",
    "                try:\n",
    "                    receita = driver.find_element_by_xpath('.//div[@class=\"infoEntity\"]//label[text()=\"Revenue\"]//following-sibling::*').text\n",
    "                except NoSuchElementException:\n",
    "                    receita = -1\n",
    "\n",
    "                try:\n",
    "                    concorrencia = driver.find_element_by_xpath('.//div[@class=\"infoEntity\"]//label[text()=\"Competitors\"]//following-sibling::*').text\n",
    "                except NoSuchElementException:\n",
    "                    concorrencia = -1\n",
    "\n",
    "            except NoSuchElementException:  #Raramente alguma vaga não cadastra os dados na tab companhia\n",
    "                tamanho = -1\n",
    "                fundamento = -1\n",
    "                tipo_propriedade = -1\n",
    "                industria = -1\n",
    "                setor = -1\n",
    "                receita = -1\n",
    "                concorrencia = -1\n",
    "\n",
    "                \n",
    "            if verbose:\n",
    "                print(\"Tamanho: {}\".format(tamanho))\n",
    "                print(\"Fundação: {}\".format(fundamento))\n",
    "                print(\"Tipo de propriedade: {}\".format(tipo_propriedade))\n",
    "                print(\"Industria: {}\".format(industria))\n",
    "                print(\"Setor: {}\".format(setor))\n",
    "                print(\"Receita: {}\".format(receita))\n",
    "                print(\"Concorrencia: {}\".format(concorrencia))\n",
    "                print(\"@@@@@@@@@@@@@@@@@@@@@@@@@@@@@@@@@@@@@@@@@@@@@@@@@@@@\")\n",
    "\n",
    "            jobs.append({\"Titulo\" : titulo,\n",
    "            \"Estimativa_Salarial\" : estimativa_salario,\n",
    "            \"Descricao_Vaga\" : descricao_vaga,\n",
    "            \"Avaliacao\" : avaliacao,\n",
    "            \"Nome_Companhia\" : nome_companhia,\n",
    "            \"Localizacao\" : localizacao,\n",
    "            \"Headquarters\" : headquarters,\n",
    "            \"Tamanho\" : tamanho,\n",
    "            \"Fundamento\" : fundamento,\n",
    "            \"Tipo_Propriedade\" : tipo_propriedade,\n",
    "            \"Industria\" : industria,\n",
    "            \"Setor\" : setor,\n",
    "            \"Receita\" : receita,\n",
    "            \"Concorrencia\" : concorrencia})\n",
    "\n",
    "            \n",
    "            \n",
    "        #Simulando o clique do botão\"proxima pagina\"\n",
    "        try:\n",
    "            driver.find_element_by_xpath('.//li[@class=\"next\"]//a').click()\n",
    "        except NoSuchElementException:\n",
    "            print(\"Scraping terminado antes de alcancar o numero de empregos estimado. Necessario {}, obteve {}.\".format(num_jobs, len(jobs)))\n",
    "            break\n",
    "\n",
    "    return pd.DataFrame(jobs)  # Esta linha converte o objeto dicionario em um pandas DataFrame."
   ]
  },
  {
   "cell_type": "code",
   "execution_count": null,
   "metadata": {},
   "outputs": [],
   "source": [
    "#Ferramenta para testes automatizados de aplicativos da web em muitos navegadores\n",
    "#https://chromedriver.chromium.org/\n",
    "pathchromedriver = \"/Users/danilogustavo/PythonFundmentals/Portfolio/EstimadorSalarioGlassdoor/chromedriver\"\n",
    "\n",
    "df = get_jobs('cientista de dados', 1000, False, pathchromedriver, 15)\n",
    "\n",
    "df.to_csv('glassdoor_jobs.csv', index = False)"
   ]
  },
  {
   "cell_type": "markdown",
   "metadata": {},
   "source": [
    "## Limpeza dos dados\n",
    "\n",
    "[[ voltar ao topo ]](#Conteúdo)\n",
    "\n",
    "O próximo passo consiste em lançar uma visão sobre os dados com os quais se pretende trabalhar. Considerando que por mais acurado aparentemente os dados possam se apresentar, erros podem estar contidos, portanto torna-se importante pontuar os erros antes de iniciar o processo de análise.\n",
    "\n",
    "Por exemplo, as considerações servem para responder as seguintes questões:\n",
    "\n",
    "* Existe algo de errado com os dados?\n",
    "* Existe alguma peculiaridade com os dados?\n",
    "* Será preciso corrigir ou remover algo relacionado aos dados?\n",
    "* Será preciso acrescentar mais features para auxiliar na construção do modelo?"
   ]
  },
  {
   "cell_type": "code",
   "execution_count": 1,
   "metadata": {},
   "outputs": [],
   "source": [
    "df = pd.read_csv('glassdoor_jobs.csv')\n",
    "\n",
    "#parsing salario\n",
    "df['Valor_hora'] = df['Estimativa_Salarial'].apply(lambda x: 1 if 'por_hora' in x.lower() else 0)\n",
    "df['Salario_empregrador'] = df['Estimativa_Salarial'].apply(lambda x: 1 if 'salario_pelo_empregrador:' in x.lower() else 0)\n",
    "\n",
    "df = df[df['Estimativa_Salarial'] != '-1']\n",
    "salary = df['Estimativa_Salarial'].apply(lambda x: x.split('(')[0])\n",
    "minus_Kd = salary.apply(lambda x: x.replace('K','').replace('$',''))\n",
    "\n",
    "min_hr = minus_Kd.apply(lambda x: x.lower().replace('por_hora','').replace('salario_pelo_empregrador:',''))\n",
    "\n",
    "df['min_salario'] = min_hr.apply(lambda x: int(x.split('-')[0]))\n",
    "df['max_salario'] = min_hr.apply(lambda x: int(x.split('-')[1]))\n",
    "df['avg_salario'] = (df.min_salary+df.max_salary)/2\n",
    "\n",
    "#Campo nome companhia apenas com texto\n",
    "df['Companhia_txt'] = df.apply(lambda x: x['Nome_Companhia'] if x['Avaliacao'] <0 else x['Nome_Companhia'][:-3], axis = 1)\n",
    "\n",
    "#Incluindo campo estado\n",
    "df['UF'] = df['Localizacao'].apply(lambda x: x.split(',')[1])\n",
    "df.job_state.value_counts()\n",
    "\n",
    "#Idade da empresa\n",
    "df['Idade_companhia'] = df.Fundamento=.apply(lambda x: x if x <1 else 2020 - x)\n",
    "\n",
    "\n",
    "#parsing da descricao da vaga (python, etc.)\n",
    "\n",
    "#python\n",
    "df['python_yn'] = df['Descricao_Vaga'].apply(lambda x: 1 if 'python' in x.lower() else 0)\n",
    " \n",
    "#r studio \n",
    "df['R_yn'] = df['Descricao_Vaga'].apply(lambda x: 1 if 'r studio' in x.lower() or 'r-studio' in x.lower() else 0)\n",
    "df.R_yn.value_counts()\n",
    "\n",
    "#spark \n",
    "df['spark'] = df['Descricao_Vaga'].apply(lambda x: 1 if 'spark' in x.lower() else 0)\n",
    "df.spark.value_counts()\n",
    "\n",
    "#aws \n",
    "df['aws'] = df['Descricao_Vaga'].apply(lambda x: 1 if 'aws' in x.lower() else 0)\n",
    "df.aws.value_counts()\n",
    "\n",
    "#excel\n",
    "df['excel'] = df['Descricao_Vaga'].apply(lambda x: 1 if 'excel' in x.lower() else 0)\n",
    "df.excel.value_counts()\n",
    "\n",
    "df.columns\n",
    "\n",
    "df_out = df.drop(['Unnamed: 0'], axis =1)\n",
    "\n",
    "df_out.to_csv('glassdoor_jobs.csv',index = False)\n"
   ]
  },
  {
   "cell_type": "code",
   "execution_count": 39,
   "metadata": {},
   "outputs": [],
   "source": [
    "df = pd.read_csv('glassdoor_jobs.csv')"
   ]
  },
  {
   "cell_type": "markdown",
   "metadata": {},
   "source": [
    "Cada linha após o cabeçalho representa uma entrada com as fetures que serão utilizadas no modelo de predição.\n",
    "\n",
    "Primeiramente vale realizar alguns ajustes nos campos relacionados aos títulos e perfis."
   ]
  },
  {
   "cell_type": "code",
   "execution_count": 5,
   "metadata": {},
   "outputs": [],
   "source": [
    "def titulo_simples(titulo):\n",
    "    if 'cientista de dados' in titulo.lower():\n",
    "        return 'cientista de dados'\n",
    "    elif 'engenheiro de dados' in titulo.lower():\n",
    "        return 'engenheiro de dados'\n",
    "    if 'data scientist' in titulo.lower():\n",
    "        return 'data scientist'\n",
    "    elif 'data engineer' in titulo.lower():\n",
    "        return 'data engineer'\n",
    "    elif 'analista' in titulo.lower():\n",
    "        return 'analista'\n",
    "    elif 'machine learning' in titulo.lower():\n",
    "        return 'mle'\n",
    "    elif 'gerente' in titulo.lower():\n",
    "        return 'gerente'\n",
    "    elif 'diretor' in titulo.lower():\n",
    "        return 'diretor'\n",
    "    else:\n",
    "        return 'na'\n",
    "    \n",
    "def senioridade(titulo):\n",
    "    if 'sr' in titulo.lower() or 'senior' in titulo.lower() or 'sr' in titulo.lower() or 'lider' in titulo.lower() or 'principal' in titulo.lower():\n",
    "            return 'senior'\n",
    "    elif 'jr' in titulo.lower() or 'jr.' in titulo.lower():\n",
    "        return 'jr'\n",
    "    else:\n",
    "        return 'na'"
   ]
  },
  {
   "cell_type": "code",
   "execution_count": 40,
   "metadata": {},
   "outputs": [],
   "source": [
    "df['Titulo_simples'] = df['Titulo'].apply(titulo_simples)"
   ]
  },
  {
   "cell_type": "code",
   "execution_count": null,
   "metadata": {},
   "outputs": [],
   "source": [
    "df.Titulo_simples.value_counts()"
   ]
  },
  {
   "cell_type": "code",
   "execution_count": null,
   "metadata": {},
   "outputs": [],
   "source": [
    "df['Senioridade'] = df['Titulo'].apply(senioridade)"
   ]
  },
  {
   "cell_type": "code",
   "execution_count": 44,
   "metadata": {},
   "outputs": [
    {
     "data": {
      "text/plain": [
       "0      2536\n",
       "1      4783\n",
       "2      3461\n",
       "3      3883\n",
       "4      2728\n",
       "       ... \n",
       "737    6162\n",
       "738    6130\n",
       "739    3078\n",
       "740    1642\n",
       "741    3673\n",
       "Name: desc_len, Length: 742, dtype: int64"
      ]
     },
     "execution_count": 44,
     "metadata": {},
     "output_type": "execute_result"
    }
   ],
   "source": [
    "df['desc_len'] = df['Descricao_Vaga'].apply(lambda x: len(x))\n",
    "df['desc_len']"
   ]
  },
  {
   "cell_type": "code",
   "execution_count": 45,
   "metadata": {},
   "outputs": [],
   "source": [
    "#Contagem de concorrencia\n",
    "df['Num_concorrencia'] = df['Concorrencia'].apply(lambda x: len(x.split(',')) if x != '-1' else 0)"
   ]
  },
  {
   "cell_type": "code",
   "execution_count": 47,
   "metadata": {},
   "outputs": [],
   "source": [
    "#salario anual por hora \n",
    "\n",
    "df['min_salario'] = df.apply(lambda x: x.min_salary*2 if x.hourly ==1 else x.min_salary, axis =1)\n",
    "df['max_salario'] = df.apply(lambda x: x.max_salary*2 if x.hourly ==1 else x.max_salary, axis =1)"
   ]
  },
  {
   "cell_type": "code",
   "execution_count": 51,
   "metadata": {},
   "outputs": [],
   "source": [
    "df['Companhia_txt'] = df.company_txt.apply(lambda x: x.replace('\\n', ''))"
   ]
  },
  {
   "cell_type": "code",
   "execution_count": null,
   "metadata": {},
   "outputs": [],
   "source": [
    "df[df.hourly ==1][['valor_hora','min_salario','max_salario']]"
   ]
  },
  {
   "cell_type": "code",
   "execution_count": null,
   "metadata": {},
   "outputs": [],
   "source": [
    "df.describe()"
   ]
  },
  {
   "cell_type": "markdown",
   "metadata": {},
   "source": [
    "## Análise exploratória\n",
    "\n",
    "[[ voltar ao topo ]](#Conteúdo)\n",
    "\n",
    "\n",
    "A análise exploratória é a etapa em que podemos começar a nos aprofundar no conjunto de dados, além dos erros e discrepâncias. Procuraremos responder a perguntas como:\n",
    "\n",
    "* Como os dados estão distribuídos?\n",
    "\n",
    "* Existem correlações nos dados?\n",
    "\n",
    "* Existem fatores de confusão que explicam essas correlações?\n",
    "\n",
    "\n",
    "Este é o estágio em que plotamos todos os dados, mas não se preocupando com o visual, pois esses gráficos são para uso técnico analítico."
   ]
  },
  {
   "cell_type": "markdown",
   "metadata": {},
   "source": [
    "Agora vamos criar um **histograma** de algumas features. Ao explorar um conjunto de dados, muitas vezes é desejável entender rapidamente a distribuição de determinadas variáveis. Uma maneira comum de visualizar a distribuição de uma única variável numérica é utilizando histogramas. \n",
    "\n",
    "Um histograma divide os valores dentro de uma variável numérica em “bins” pelo o número de observações que caem em cada posição. \n",
    "\n",
    "Ao visualizar essas contagens de maneira colunar, podemos obter um senso bem imediato e intuitivo da distribuição dos valores dentro de uma variável."
   ]
  },
  {
   "cell_type": "code",
   "execution_count": 57,
   "metadata": {},
   "outputs": [
    {
     "data": {
      "text/plain": [
       "<matplotlib.axes._subplots.AxesSubplot at 0x2814125b888>"
      ]
     },
     "execution_count": 57,
     "metadata": {},
     "output_type": "execute_result"
    },
    {
     "data": {
      "image/png": "[encoded data removed]",
      "text/plain": [
       "<Figure size 432x288 with 1 Axes>"
      ]
     },
     "metadata": {
      "needs_background": "light"
     },
     "output_type": "display_data"
    }
   ],
   "source": [
    "df.Avaliacao.hist()"
   ]
  },
  {
   "cell_type": "code",
   "execution_count": 58,
   "metadata": {},
   "outputs": [
    {
     "data": {
      "text/plain": [
       "<matplotlib.axes._subplots.AxesSubplot at 0x28141405a48>"
      ]
     },
     "execution_count": 58,
     "metadata": {},
     "output_type": "execute_result"
    },
    {
     "data": {
      "image/png": "[encoded data removed]",
      "text/plain": [
       "<Figure size 432x288 with 1 Axes>"
      ]
     },
     "metadata": {
      "needs_background": "light"
     },
     "output_type": "display_data"
    }
   ],
   "source": [
    "df.Estimativa_Salarial.hist()"
   ]
  },
  {
   "cell_type": "code",
   "execution_count": 59,
   "metadata": {},
   "outputs": [
    {
     "data": {
      "text/plain": [
       "<matplotlib.axes._subplots.AxesSubplot at 0x28141481e48>"
      ]
     },
     "execution_count": 59,
     "metadata": {},
     "output_type": "execute_result"
    },
    {
     "data": {
      "image/png": "[encoded data removed]",
      "text/plain": [
       "<Figure size 432x288 with 1 Axes>"
      ]
     },
     "metadata": {
      "needs_background": "light"
     },
     "output_type": "display_data"
    }
   ],
   "source": [
    "df.Idade_companhia.hist()"
   ]
  },
  {
   "cell_type": "code",
   "execution_count": 60,
   "metadata": {},
   "outputs": [
    {
     "data": {
      "text/plain": [
       "<matplotlib.axes._subplots.AxesSubplot at 0x28141510c88>"
      ]
     },
     "execution_count": 60,
     "metadata": {},
     "output_type": "execute_result"
    },
    {
     "data": {
      "image/png": "[encoded data removed]",
      "text/plain": [
       "<Figure size 432x288 with 1 Axes>"
      ]
     },
     "metadata": {
      "needs_background": "light"
     },
     "output_type": "display_data"
    }
   ],
   "source": [
    "df.Desc_len.hist()"
   ]
  },
  {
   "cell_type": "markdown",
   "metadata": {},
   "source": [
    "Vale plotar alguns boxplots para identifição de valores discrepantes e outliers dos dados, fornecendo assim um meio complementar para desenvolver uma perspectiva sobre o caráter dos dados. Além disso, serviondo também como uma disposição gráfica comparativa. \n",
    "\n",
    "O Boxplot captura o resumo dos dados de forma eficiente com uma simples caixa nos permitindo comparar facilmente entre grupos de informação. Basicamente um boxplot é uma maneira rápida de visualiar a forma de uma distribuição."
   ]
  },
  {
   "cell_type": "code",
   "execution_count": null,
   "metadata": {},
   "outputs": [],
   "source": [
    "df.boxplot(column = ['Idade_companhia','Estimativa_Salarial','Avaliacao'])"
   ]
  },
  {
   "cell_type": "code",
   "execution_count": null,
   "metadata": {},
   "outputs": [],
   "source": [
    "df.boxplot(column = 'Avaliacao')"
   ]
  },
  {
   "cell_type": "code",
   "execution_count": null,
   "metadata": {},
   "outputs": [],
   "source": [
    "df[['Idade_companhia','Estimativa_Salarial','Avaliacao','Desc_len']].corr()"
   ]
  },
  {
   "cell_type": "markdown",
   "metadata": {},
   "source": [
    "Vale criar um mapa de calor para identificar possíveis correlações entre as features de idade, média salarial, avaliação, entre outros.\n",
    "\n",
    "O mapa de calor é uma maneira de representar os dados em uma forma bidimensional. Os valores dos dados são representados como cores no gráfico. O objetivo do mapa de calor é fornecer um resumo visual colorido das informações."
   ]
  },
  {
   "cell_type": "code",
   "execution_count": null,
   "metadata": {},
   "outputs": [],
   "source": [
    "cmap = sns.diverging_palette(220, 10, as_cmap=True)\n",
    "sns.heatmap(df[['Idade_companhia','Estimativa_Salarial','Avaliacao','Desc_len','Num_concorrencia']].corr(),vmax=.3, center=0, cmap=cmap,\n",
    "            square=True, linewidths=.5, cbar_kws={\"shrink\": .5})"
   ]
  },
  {
   "cell_type": "markdown",
   "metadata": {},
   "source": [
    "Criação de algumas visualizações por agrupamento"
   ]
  },
  {
   "cell_type": "code",
   "execution_count": null,
   "metadata": {},
   "outputs": [],
   "source": [
    "pd.pivot_table(df, index = 'Titulo_simples', values = 'Estimativa_Salarial')"
   ]
  },
  {
   "cell_type": "code",
   "execution_count": null,
   "metadata": {},
   "outputs": [],
   "source": [
    "pd.pivot_table(df, index = ['Titulo_simples','Senioridade'], values = 'Estimativa_Salarial')"
   ]
  },
  {
   "cell_type": "code",
   "execution_count": null,
   "metadata": {},
   "outputs": [],
   "source": [
    "pd.pivot_table(df, index = ['Estado','Titulo_simples'], values = 'Estimativa_Salarial').sort_values('Estado', ascending = False)"
   ]
  },
  {
   "cell_type": "code",
   "execution_count": 90,
   "metadata": {},
   "outputs": [
    {
     "data": {
      "text/plain": [
       "60"
      ]
     },
     "execution_count": 90,
     "metadata": {},
     "output_type": "execute_result"
    }
   ],
   "source": [
    "pd.options.display.max_rows\n",
    "pd.set_option('display.max_rows', None)"
   ]
  },
  {
   "cell_type": "code",
   "execution_count": null,
   "metadata": {},
   "outputs": [],
   "source": [
    "pd.pivot_table(df, index = ['Estado','Titulo_simples'], values = 'Estimativa_Salarial', aggfunc = 'count').sort_values('Estado', ascending = False)"
   ]
  },
  {
   "cell_type": "code",
   "execution_count": null,
   "metadata": {},
   "outputs": [],
   "source": [
    "pd.pivot_table(df[df.Titulo_simples == 'data scientist'], index = 'Estado', values = 'Estimativa_Salarial').sort_values('avg_salary', ascending = False)"
   ]
  },
  {
   "cell_type": "code",
   "execution_count": 110,
   "metadata": {},
   "outputs": [],
   "source": [
    "df_pivots = df[['Avaliacao', 'Industria', 'Setor', 'Receita', 'Salario_empregrador', 'python_yn', 'R_yn', 'spark', 'aws', 'excel', 'Tipo_Propriedade','Estimativa_Salarial']]"
   ]
  },
  {
   "cell_type": "code",
   "execution_count": null,
   "metadata": {},
   "outputs": [],
   "source": [
    "df_pivots = df[['Avaliacao', 'Industria', 'Setor', 'Receita', 'Salario_empregrador', 'python_yn', 'R_yn', 'spark', 'aws', 'excel', 'Tipo_Propriedade','Estimativa_Salarial']]"
   ]
  },
  {
   "cell_type": "code",
   "execution_count": null,
   "metadata": {},
   "outputs": [],
   "source": [
    "pd.pivot_table(df_pivots, index = 'Receita', columns = 'python_yn', values = 'Estimativa_Salarial', aggfunc = 'count')"
   ]
  },
  {
   "cell_type": "code",
   "execution_count": 124,
   "metadata": {},
   "outputs": [],
   "source": [
    "from wordcloud import WordCloud, ImageColorGenerator, STOPWORDS\n",
    "from nltk.corpus import stopwords\n",
    "from nltk.tokenize import word_tokenize"
   ]
  },
  {
   "cell_type": "markdown",
   "metadata": {},
   "source": [
    "Algortmo simples para exibição de nuvem de palavras destacando aquelas que estiverem maior relevância"
   ]
  },
  {
   "cell_type": "code",
   "execution_count": null,
   "metadata": {},
   "outputs": [],
   "source": [
    "words = \" \".join(df['Descricao_Vaga'])\n",
    "\n",
    "def punctuation_stop(text):\n",
    "    \"\"\"remocao de pontuacao\"\"\"\n",
    "    filtered = []\n",
    "    stop_words = set(stopwords.words('portugues'))\n",
    "    word_tokens = word_tokenize(text)\n",
    "    for w in word_tokens:\n",
    "        if w not in stop_words and w.isalpha():\n",
    "            filtered.append(w.lower())\n",
    "    return filtered\n",
    "\n",
    "\n",
    "words_filtered = punctuation_stop(words)\n",
    "\n",
    "text = \" \".join([ele for ele in words_filtered])\n",
    "\n",
    "wc= WordCloud(background_color=\"white\", random_state=1,stopwords=STOPWORDS, max_words = 2000, width =800, height = 1500)\n",
    "wc.generate(text)\n",
    "\n",
    "plt.figure(figsize=[10,10])\n",
    "plt.imshow(wc,interpolation=\"bilinear\")\n",
    "plt.axis('off')\n",
    "plt.show()"
   ]
  },
  {
   "cell_type": "markdown",
   "metadata": {},
   "source": [
    "## Criação do modelo\n",
    "\n",
    "[[ voltar ao topo ]](#Conteúdo)\n",
    "\n",
    "\n",
    "Organizar e explorar os dados é um componente vital para a análise de dados. Caso tivesse sido pulado e partido diretamente para a etapa de modelagem, existiriam grandes chances de contruírmos um modelo de classificação com sérios problemas.\n",
    "\n",
    "\n",
    "<hr />\n",
    "\n",
    "Após assegurar que os dados estejam limpos e embuído com algum conhecimento - mesmo que superficial sobre suas distribuições e relacionamentos, chegou o momento de dar o próximo passo na análise dividindo os dados nos sets de treinamento e teste.\n",
    "\n",
    "Um **set de treinamento** é um subconjunto aleatório de dados utilizado para o treinamento dos modelos. Um **set de teste** é um subconjunto aleatório de dados (mutuamente exclusivo dos dados de treino) utilizado para validar os modelos e prepará-los para entradas futuras e imprevistas.\n",
    "\n",
    "Especialmente em dados esparsos, aumenta-se a chance dos modelos sofrerem com sobreajuste **overfit**. O modelo aprenderá tão bem sobre o conjunto de treinamento, que por sua vez, não será capaz de lidar em sua grande maioria com os dados de casos nunca vistos em validações anteriores. Portanto é importante que seja construído o modelo com dados de treinamento para somente então validá-lo com o conjunto de testes posteriormente."
   ]
  },
  {
   "cell_type": "code",
   "execution_count": null,
   "metadata": {},
   "outputs": [],
   "source": [
    "# escolha de colunas relevantes\n",
    "df.columns\n",
    "\n",
    "df_model = df[['Estimativa_Salarial','Avaliacao','Tamanho','Tipo_propriedade','Industria','Setor','Receita','Num_concorrencia','Valor_hora','Salario_empregrador',\n",
    "             'Estado','Mesmo_estado','Idade','python_yn','spark','aws','excel','Titulo_simples','Senioridade','Desc_len']]\n",
    "\n",
    "# dados dummy\n",
    "df_dum = pd.get_dummies(df_model)\n",
    "\n",
    "\n",
    "from sklearn.model_selection import train_test_split\n",
    "\n",
    "X = df_dum.drop('Estimativa_Salarial', axis =1)\n",
    "y = df_dum.Estimativa_Salarial.values\n",
    "\n",
    "X_train, X_test, y_train, y_test = train_test_split(X, y, test_size=0.2, random_state=42)\n",
    "\n",
    "# regressao linear multipla\n",
    "import statsmodels.api as sm\n",
    "\n",
    "X_sm = X = sm.add_constant(X)\n",
    "model = sm.OLS(y,X_sm)\n",
    "model.fit().summary()\n",
    "\n",
    "from sklearn.linear_model import LinearRegression, Lasso\n",
    "from sklearn.model_selection import cross_val_score\n",
    "\n",
    "lm = LinearRegression()\n",
    "lm.fit(X_train, y_train)\n",
    "\n",
    "np.mean(cross_val_score(lm,X_train,y_train, scoring = 'neg_mean_absolute_error', cv= 3))\n",
    "\n",
    "# regressao lasso \n",
    "lm_l = Lasso(alpha=.13)\n",
    "lm_l.fit(X_train,y_train)\n",
    "np.mean(cross_val_score(lm_l,X_train,y_train, scoring = 'neg_mean_absolute_error', cv= 3))\n",
    "\n",
    "alpha = []\n",
    "error = []\n",
    "\n",
    "for i in range(1,100):\n",
    "    alpha.append(i/100)\n",
    "    lml = Lasso(alpha=(i/100))\n",
    "    error.append(np.mean(cross_val_score(lml,X_train,y_train, scoring = 'neg_mean_absolute_error', cv= 3)))\n",
    "    \n",
    "plt.plot(alpha,error)\n",
    "\n",
    "err = tuple(zip(alpha,error))\n",
    "df_err = pd.DataFrame(err, columns = ['alpha','error'])\n",
    "df_err[df_err.error == max(df_err.error)]\n",
    "\n",
    "# random forest \n",
    "from sklearn.ensemble import RandomForestRegressor\n",
    "rf = RandomForestRegressor()\n",
    "\n",
    "np.mean(cross_val_score(rf,X_train,y_train,scoring = 'neg_mean_absolute_error', cv= 3))\n",
    "\n",
    "# tune GridsearchCV \n",
    "from sklearn.model_selection import GridSearchCV\n",
    "parameters = {'n_estimators':range(10,300,10), 'criterion':('mse','mae'), 'max_features':('auto','sqrt','log2')}\n",
    "\n",
    "gs = GridSearchCV(rf,parameters,scoring='neg_mean_absolute_error',cv=3)\n",
    "gs.fit(X_train,y_train)\n",
    "\n",
    "gs.best_score_\n",
    "gs.best_estimator_\n",
    "\n",
    "# teste de ensembles \n",
    "tpred_lm = lm.predict(X_test)\n",
    "tpred_lml = lm_l.predict(X_test)\n",
    "tpred_rf = gs.best_estimator_.predict(X_test)\n",
    "\n",
    "from sklearn.metrics import mean_absolute_error\n",
    "mean_absolute_error(y_test,tpred_lm)\n",
    "mean_absolute_error(y_test,tpred_lml)\n",
    "mean_absolute_error(y_test,tpred_rf)\n",
    "\n",
    "mean_absolute_error(y_test,(tpred_lm+tpred_rf)/2)\n",
    "\n",
    "import pickle\n",
    "pickl = {'model': gs.best_estimator_}\n",
    "pickle.dump( pickl, open( 'model_file' + \".p\", \"wb\" ) )\n",
    "\n",
    "file_name = \"model_file.p\"\n",
    "with open(file_name, 'rb') as pickled:\n",
    "    data = pickle.load(pickled)\n",
    "    model = data['model']\n",
    "\n",
    "model.predict(np.array(list(X_test.iloc[1,:])).reshape(1,-1))[0]\n",
    "\n",
    "list(X_test.iloc[1,:])"
   ]
  }
 ],
 "metadata": {
  "kernelspec": {
   "display_name": "Python 3",
   "language": "python",
   "name": "python3"
  },
  "language_info": {
   "codemirror_mode": {
    "name": "ipython",
    "version": 3
   },
   "file_extension": ".py",
   "mimetype": "text/x-python",
   "name": "python",
   "nbconvert_exporter": "python",
   "pygments_lexer": "ipython3",
   "version": "3.6.5"
  }
 },
 "nbformat": 4,
 "nbformat_minor": 2
}
